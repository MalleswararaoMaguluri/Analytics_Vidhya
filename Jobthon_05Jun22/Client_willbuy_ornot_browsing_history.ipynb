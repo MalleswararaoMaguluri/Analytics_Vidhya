{
 "cells": [
  {
   "cell_type": "code",
   "execution_count": 1,
   "metadata": {},
   "outputs": [
    {
     "name": "stdout",
     "output_type": "stream",
     "text": [
      "id                        int64\n",
      "created_at               object\n",
      "campaign_var_1            int64\n",
      "campaign_var_2            int64\n",
      "products_purchased      float64\n",
      "signup_date              object\n",
      "user_activity_var_1       int64\n",
      "user_activity_var_2       int64\n",
      "user_activity_var_3       int64\n",
      "user_activity_var_4       int64\n",
      "user_activity_var_5       int64\n",
      "user_activity_var_6       int64\n",
      "user_activity_var_7       int64\n",
      "user_activity_var_8       int64\n",
      "user_activity_var_9       int64\n",
      "user_activity_var_10      int64\n",
      "user_activity_var_11      int64\n",
      "user_activity_var_12      int64\n",
      "buy                       int64\n",
      "dtype: object\n",
      "id                          0\n",
      "created_at                  0\n",
      "campaign_var_1              0\n",
      "campaign_var_2              0\n",
      "products_purchased      20911\n",
      "signup_date             15113\n",
      "user_activity_var_1         0\n",
      "user_activity_var_2         0\n",
      "user_activity_var_3         0\n",
      "user_activity_var_4         0\n",
      "user_activity_var_5         0\n",
      "user_activity_var_6         0\n",
      "user_activity_var_7         0\n",
      "user_activity_var_8         0\n",
      "user_activity_var_9         0\n",
      "user_activity_var_10        0\n",
      "user_activity_var_11        0\n",
      "user_activity_var_12        0\n",
      "buy                         0\n",
      "dtype: int64\n",
      "          id  campaign_var_1  campaign_var_2  user_activity_var_1  \\\n",
      "28930  28931              10              14                    0   \n",
      "19868  19869               3               5                    1   \n",
      "1946    1947               2               5                    1   \n",
      "27356  27357               6              11                    0   \n",
      "10568  10569              15               7                    0   \n",
      "...      ...             ...             ...                  ...   \n",
      "20757  20758               6               5                    0   \n",
      "32103  32104               6               5                    0   \n",
      "30403  30404              11               7                    0   \n",
      "21243  21244               9               8                    0   \n",
      "2732    2733              12               4                    1   \n",
      "\n",
      "       user_activity_var_2  user_activity_var_3  user_activity_var_4  \\\n",
      "28930                    0                    0                    0   \n",
      "19868                    0                    0                    0   \n",
      "1946                     0                    1                    0   \n",
      "27356                    0                    0                    0   \n",
      "10568                    0                    0                    0   \n",
      "...                    ...                  ...                  ...   \n",
      "20757                    0                    0                    0   \n",
      "32103                    0                    0                    0   \n",
      "30403                    0                    0                    0   \n",
      "21243                    0                    0                    0   \n",
      "2732                     0                    0                    0   \n",
      "\n",
      "       user_activity_var_5  user_activity_var_6  user_activity_var_7  \\\n",
      "28930                    0                    1                    1   \n",
      "19868                    0                    0                    0   \n",
      "1946                     0                    0                    1   \n",
      "27356                    0                    1                    0   \n",
      "10568                    0                    0                    0   \n",
      "...                    ...                  ...                  ...   \n",
      "20757                    0                    1                    0   \n",
      "32103                    0                    1                    0   \n",
      "30403                    0                    1                    0   \n",
      "21243                    0                    0                    0   \n",
      "2732                     0                    1                    0   \n",
      "\n",
      "       user_activity_var_8  user_activity_var_9  user_activity_var_10  \\\n",
      "28930                    0                    0                     0   \n",
      "19868                    0                    0                     0   \n",
      "1946                     0                    0                     0   \n",
      "27356                    0                    0                     0   \n",
      "10568                    1                    0                     0   \n",
      "...                    ...                  ...                   ...   \n",
      "20757                    0                    0                     0   \n",
      "32103                    0                    0                     0   \n",
      "30403                    1                    0                     0   \n",
      "21243                    0                    0                     0   \n",
      "2732                     0                    0                     0   \n",
      "\n",
      "       user_activity_var_11  user_activity_var_12  \n",
      "28930                     1                     0  \n",
      "19868                     1                     0  \n",
      "1946                      0                     0  \n",
      "27356                     0                     0  \n",
      "10568                     1                     0  \n",
      "...                     ...                   ...  \n",
      "20757                     0                     0  \n",
      "32103                     0                     0  \n",
      "30403                     0                     0  \n",
      "21243                     0                     0  \n",
      "2732                      0                     0  \n",
      "\n",
      "[31328 rows x 15 columns]\n"
     ]
    }
   ],
   "source": [
    "import pandas as pd\n",
    "import numpy as np\n",
    "\n",
    "# read the train file\n",
    "df=pd.read_csv('train.csv')\n",
    "print(df.dtypes)\n",
    "print(df.isna().sum())\n",
    "\n",
    "# drop the unwanted features\n",
    "df=df.drop(['signup_date', 'products_purchased','created_at'], axis = 1)\n",
    "df.isna().sum()\n",
    "df.dtypes\n",
    "\n",
    "# create target and independent variables\n",
    "features=list(df.columns)\n",
    "label='buy'\n",
    "features.remove(label)\n",
    "\n",
    "# split train and test data set 80:20\n",
    "from sklearn.model_selection import train_test_split\n",
    "train,test=train_test_split(df,test_size=0.2,random_state=0)\n",
    "X_train=train[features]\n",
    "y_train=train[label]\n",
    "\n",
    "X_test=test[features]\n",
    "y_test=test[label]\n",
    "print(X_train)\n",
    "\n",
    "#Decision Tree\n",
    "from sklearn.ensemble import RandomForestClassifier\n"
   ]
  },
  {
   "cell_type": "code",
   "execution_count": 3,
   "metadata": {},
   "outputs": [],
   "source": [
    "# Hyper paramater tuning\n",
    "n_estimators = [5,20,50,100] # number of trees in the random forest\n",
    "max_features = ['auto', 'sqrt'] # number of features in consideration at every split\n",
    "max_depth = [int(x) for x in np.linspace(10, 120, num = 12)] # maximum number of levels allowed in each decision tree\n",
    "min_samples_split = [2, 6, 10] # minimum sample number to split a node\n",
    "min_samples_leaf = [1, 3, 4] # minimum sample number that can be stored in a leaf node\n",
    "\n",
    "random_grid = {'n_estimators': n_estimators,\n",
    "\n",
    "'max_features': max_features,\n",
    "\n",
    "'max_depth': max_depth,\n",
    "\n",
    "'min_samples_split': min_samples_split,\n",
    "\n",
    "'min_samples_leaf': min_samples_leaf}"
   ]
  },
  {
   "cell_type": "code",
   "execution_count": 6,
   "metadata": {},
   "outputs": [
    {
     "name": "stdout",
     "output_type": "stream",
     "text": [
      "Fitting 5 folds for each of 100 candidates, totalling 500 fits\n"
     ]
    },
    {
     "name": "stderr",
     "output_type": "stream",
     "text": [
      "[Parallel(n_jobs=-1)]: Using backend LokyBackend with 8 concurrent workers.\n",
      "[Parallel(n_jobs=-1)]: Done  25 tasks      | elapsed:    2.3s\n",
      "[Parallel(n_jobs=-1)]: Done 146 tasks      | elapsed:   22.7s\n",
      "[Parallel(n_jobs=-1)]: Done 349 tasks      | elapsed:  1.0min\n",
      "[Parallel(n_jobs=-1)]: Done 500 out of 500 | elapsed:  1.4min finished\n"
     ]
    },
    {
     "data": {
      "text/plain": [
       "RandomizedSearchCV(cv=5, estimator=RandomForestClassifier(), n_iter=100,\n",
       "                   n_jobs=-1,\n",
       "                   param_distributions={'max_depth': [10, 20, 30, 40, 50, 60,\n",
       "                                                      70, 80, 90, 100, 110,\n",
       "                                                      120],\n",
       "                                        'max_features': ['auto', 'sqrt'],\n",
       "                                        'min_samples_leaf': [1, 3, 4],\n",
       "                                        'min_samples_split': [2, 6, 10],\n",
       "                                        'n_estimators': [5, 20, 50, 100]},\n",
       "                   random_state=35, verbose=2)"
      ]
     },
     "execution_count": 6,
     "metadata": {},
     "output_type": "execute_result"
    }
   ],
   "source": [
    "from sklearn.model_selection import RandomizedSearchCV\n",
    "rf_random = RandomizedSearchCV(estimator = RandomForestClassifier(),param_distributions = random_grid,\n",
    "               n_iter = 100, cv = 5, verbose=2, random_state=35, n_jobs = -1)\n",
    "rf_random.fit(X_train, y_train)"
   ]
  },
  {
   "cell_type": "code",
   "execution_count": 7,
   "metadata": {},
   "outputs": [
    {
     "name": "stdout",
     "output_type": "stream",
     "text": [
      "Random grid:  {'n_estimators': [5, 20, 50, 100], 'max_features': ['auto', 'sqrt'], 'max_depth': [10, 20, 30, 40, 50, 60, 70, 80, 90, 100, 110, 120], 'min_samples_split': [2, 6, 10], 'min_samples_leaf': [1, 3, 4]} \n",
      "\n",
      "Best Parameters:  {'n_estimators': 50, 'min_samples_split': 6, 'min_samples_leaf': 1, 'max_features': 'sqrt', 'max_depth': 20}  \n",
      "\n"
     ]
    }
   ],
   "source": [
    "print ('Random grid: ', random_grid, '\\n')\n",
    "# print the best parameters\n",
    "print ('Best Parameters: ', rf_random.best_params_, ' \\n')"
   ]
  },
  {
   "cell_type": "code",
   "execution_count": 2,
   "metadata": {},
   "outputs": [
    {
     "name": "stdout",
     "output_type": "stream",
     "text": [
      "Accuracy of Decision Tree classifier on training set: 0.98\n",
      "Accuracy of Decision Tree classifier on test set: 0.97\n"
     ]
    }
   ],
   "source": [
    "rf = RandomForestClassifier(n_estimators=50, min_samples_split=6, min_samples_leaf=1, max_features='sqrt', max_depth=20,bootstrap=True).fit(X_train, y_train)\n",
    "print('Accuracy of Decision Tree classifier on training set: {:.2f}'\n",
    "     .format(rf.score(X_train, y_train)))\n",
    "print('Accuracy of Decision Tree classifier on test set: {:.2f}'\n",
    "     .format(rf.score(X_test, y_test)))\n",
    "\n",
    "# read the test file\n",
    "test_file = pd.read_csv(\"test.csv\")\n",
    "test_file=test_file.drop(['signup_date', 'products_purchased','created_at'], axis = 1)\n",
    "\n",
    "# prediction of test file\n",
    "rfout=rf.predict(test_file)\n",
    "rfoutf=pd.Series(rfout)\n",
    "rfoutf.to_csv('RF_pred_hyp.csv',header=None,index=None)\n",
    "\n",
    "# extract id from test data\n",
    "testid=test_file['id']\n",
    "#print(testid)\n",
    "\n",
    "# concat id and prediction of whether the person will buy or not\n",
    "rfpred=pd.concat([testid,rfoutf],axis=1)\n",
    "rfpred.to_csv('RF_pred_hyp.csv',index=False, header=['id','buy'])"
   ]
  },
  {
   "cell_type": "code",
   "execution_count": null,
   "metadata": {},
   "outputs": [],
   "source": []
  }
 ],
 "metadata": {
  "kernelspec": {
   "display_name": "Python 3",
   "language": "python",
   "name": "python3"
  },
  "language_info": {
   "codemirror_mode": {
    "name": "ipython",
    "version": 3
   },
   "file_extension": ".py",
   "mimetype": "text/x-python",
   "name": "python",
   "nbconvert_exporter": "python",
   "pygments_lexer": "ipython3",
   "version": "3.7.4"
  }
 },
 "nbformat": 4,
 "nbformat_minor": 2
}
